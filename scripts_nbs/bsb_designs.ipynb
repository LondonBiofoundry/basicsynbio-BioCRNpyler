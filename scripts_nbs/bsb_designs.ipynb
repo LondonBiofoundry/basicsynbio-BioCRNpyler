{
 "metadata": {
  "language_info": {
   "codemirror_mode": {
    "name": "ipython",
    "version": 3
   },
   "file_extension": ".py",
   "mimetype": "text/x-python",
   "name": "python",
   "nbconvert_exporter": "python",
   "pygments_lexer": "ipython3",
   "version": "3.8.5-final"
  },
  "orig_nbformat": 2,
  "kernelspec": {
   "name": "python3",
   "display_name": "Python 3.8.5 64-bit ('generic_385')",
   "metadata": {
    "interpreter": {
     "hash": "b5a57bdf4f60dd5fdfdbcf1ff17b6295cdacb33611369cc354cba241c9284816"
    }
   }
  }
 },
 "nbformat": 4,
 "nbformat_minor": 2,
 "cells": [
  {
   "source": [
    "# basicsynbio designs\n",
    "\n",
    "This notebook contains a collection of basicsynbio designs relevant to interfacing bioCRNpyler and basicynbio.\n",
    "\n",
    "## \n",
    "\n",
    "## Aims and objectives for cell/s below\n",
    "\n",
    "- Can I change the orientation of expression casettes?"
   ],
   "cell_type": "markdown",
   "metadata": {}
  },
  {
   "cell_type": "code",
   "execution_count": 10,
   "metadata": {},
   "outputs": [],
   "source": [
    "import basicsynbio as bsb\n",
    "from basicsynbio.main import DEFAULT_ANNOTATIONS\n",
    "from basicsynbio.cam import seqrecord_hexdigest"
   ]
  },
  {
   "cell_type": "code",
   "execution_count": null,
   "metadata": {},
   "outputs": [],
   "source": [
    "parts = (\n",
    "    bsb.BASIC_CDS_PARTS[\"v0.1\"][\"sfGFP\"],\n",
    "    bsb.BASIC_PROMOTER_PARTS[\"v0.1\"][\"B-P3\"]\n",
    ")\n",
    "reversed_parts = []\n",
    "for ind, part in enumerate(parts):\n",
    "    reversed_assembly = bsb.BasicAssembly(\n",
    "        id=f\"{part.id}_reversed\",\n",
    "        bsb.BASIC_SEVA_PARTS[\"v0.1\"][\"18\"],\n",
    "        bsb.BASIC_BIOLEGIO_LINKERS[\"LMS\"],\n",
    "        part,\n",
    "        bsb.BASIC_BIOLEGIO_LINKERS[\"LMP\"],    \n",
    "    )\n",
    "    reversed_parts.append(reversed_assembly.to_part(\n",
    "        id=bsb.seqrecord_hexdigest()\n",
    "        name=f\"{parts[ind].name} reversed\"\n",
    "    ))\n"
   ]
  },
  {
   "cell_type": "code",
   "execution_count": 5,
   "metadata": {
    "tags": []
   },
   "outputs": [
    {
     "output_type": "stream",
     "name": "stdout",
     "text": [
      "[('B-P3', BasicPart(seq=Seq('GGCTCGGGTAAGAACTCGCACTTCGTGGAAACACTATTATCTGGTGGGTCTCTG...TAA'), id='04dd87f307037cb34338c8d46fdec78a', name='B-P3_Terminator1_J23104_RiboA', description='B-P3 stored in BASIC_SEVA_18. The BASIC insulated promoter B-P3, contains a J23104 promoter with an upstream Terminator1 and a downstream RiboA', dbxrefs=[])), ('B-P11', BasicPart(seq=Seq('GGCTCGGGTAAGAACTCGCACTTCGTGGAAACACTATTATCTGGTGGGTCTCTG...TAA'), id='baee1c5c40e63e2c9846dec120fe97f4', name='B-P11_Terminator2_J23104_RiboB', description='B-P11 stored in BASIC_SEVA_18. The BASIC insulated promoter B-P11, contains a J23104 promoter with an upstream Terminator2 and a downstream RiboB', dbxrefs=[])), ('B-P19', BasicPart(seq=Seq('GGCTCGGGTAAGAACTCGCACTTCGTGGAAACACTATTATCTGGTGGGTCTCTG...TAA'), id='da194de45dd62324fb2035cb22679a2e', name='B-P19_Terminator3_J23104_RiboC', description='B-P19 stored in BASIC_SEVA_18. The BASIC insulated promoter B-P19, contains a J23104 promoter with an upstream Terminator3 and a downstream RiboC', dbxrefs=[]))]\n"
     ]
    }
   ],
   "source": [
    "print([item for item in bsb.BASIC_PROMOTER_PARTS[\"v0.1\"].items() if \"104\" in item[1].name])"
   ]
  },
  {
   "cell_type": "code",
   "execution_count": 8,
   "metadata": {},
   "outputs": [
    {
     "output_type": "stream",
     "name": "stdout",
     "text": [
      "Help on function return_part in module basicsynbio.main:\n\nreturn_part(self, **kwargs) -> basicsynbio.main.BasicPart\n    A function to return the assembled construct as a new part.\n    \n    Args:\n        kwargs: assigns alternative SeqRecord attributes.\n    \n    Returns:\n        BasicPart: assembled construct as a new part.\n\n"
     ]
    }
   ],
   "source": [
    "help(bsb.BasicAssembly.return_part)"
   ]
  }
 ]
}