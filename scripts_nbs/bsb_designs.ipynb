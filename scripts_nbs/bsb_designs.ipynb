{
 "metadata": {
  "language_info": {
   "codemirror_mode": {
    "name": "ipython",
    "version": 3
   },
   "file_extension": ".py",
   "mimetype": "text/x-python",
   "name": "python",
   "nbconvert_exporter": "python",
   "pygments_lexer": "ipython3",
   "version": "3.8.5-final"
  },
  "orig_nbformat": 2,
  "kernelspec": {
   "name": "python3",
   "display_name": "Python 3.8.5 64-bit ('generic_385')",
   "metadata": {
    "interpreter": {
     "hash": "b5a57bdf4f60dd5fdfdbcf1ff17b6295cdacb33611369cc354cba241c9284816"
    }
   }
  }
 },
 "nbformat": 4,
 "nbformat_minor": 2,
 "cells": [
  {
   "source": [
    "# basicsynbio designs\n",
    "\n",
    "This notebook contains a collection of basicsynbio designs relevant to interfacing bioCRNpyler and basicynbio.\n",
    "\n",
    "## Thoughts and questions\n",
    "\n",
    "- What parameters will BioCRNPyler calculate in predicting constitutive expression from inducible expression results?\n",
    "\n",
    "## Aims and objectives for cell/s below\n",
    "\n",
    "- Can I change the orientation of expression casettes?"
   ],
   "cell_type": "markdown",
   "metadata": {}
  },
  {
   "cell_type": "code",
   "execution_count": 1,
   "metadata": {},
   "outputs": [],
   "source": [
    "import basicsynbio as bsb\n",
    "from basicsynbio.main import DEFAULT_ANNOTATIONS\n",
    "from basicsynbio.cam import seqrecord_hexdigest\n",
    "from pathlib import Path\n",
    "import re"
   ]
  },
  {
   "cell_type": "code",
   "execution_count": 2,
   "metadata": {},
   "outputs": [],
   "source": [
    "parts = {\n",
    "    \"cds\": bsb.BASIC_CDS_PARTS[\"v0.1\"][\"sfGFP\"],\n",
    "    \"promoter\": bsb.BASIC_PROMOTER_PARTS[\"v0.1\"][\"B-P3\"]\n",
    "}\n",
    "reversed_parts = {}\n",
    "for key, value in parts.items():\n",
    "    reversed_assembly = bsb.BasicAssembly(\n",
    "        f\"{value.id}_reversed\",\n",
    "        bsb.BASIC_SEVA_PARTS[\"v0.1\"][\"18\"],\n",
    "        bsb.BASIC_BIOLEGIO_LINKERS[\"v0.1\"][\"LMS\"],\n",
    "        value,\n",
    "        bsb.BASIC_BIOLEGIO_LINKERS[\"v0.1\"][\"LMP\"],    \n",
    "    )\n",
    "    reversed_part = reversed_assembly.return_part(\n",
    "        name=f\"{value.name} reversed\",\n",
    "    )\n",
    "    reversed_part.id = seqrecord_hexdigest(reversed_part)\n",
    "    reversed_parts[key] = reversed_part\n",
    "reverse_construct = bsb.BasicAssembly(\n",
    "    \"reverse_sfGFP_cassette\",\n",
    "    bsb.BASIC_SEVA_PARTS[\"v0.1\"][\"26\"],\n",
    "    bsb.BASIC_BIOLEGIO_LINKERS[\"v0.1\"][\"LMS\"],\n",
    "    reversed_parts[\"cds\"],\n",
    "    bsb.BASIC_BIOLEGIO_LINKERS[\"v0.1\"][\"UTR1-RBS1\"],\n",
    "    reversed_parts[\"promoter\"],\n",
    "    bsb.BASIC_BIOLEGIO_LINKERS[\"v0.1\"][\"LMP\"],        \n",
    ")\n",
    "path_to_seqs = Path.cwd().parents[0] / \"sequences\"\n",
    "# bsb.export_sequences_to_file(\n",
    "#     reverse_construct.return_part(),\n",
    "#     path_to_seqs / \"reverse_sfGFP_cassette.gb\",\n",
    "#     \"genbank\",\n",
    "# )"
   ]
  },
  {
   "source": [
    "## Results from above cells\n",
    "\n",
    "- Can't change the orientation of an expression cassette.\n",
    "\n",
    "## Aims and objectives for cell/s below\n",
    "\n",
    "- Design the following constructs that enable:\n",
    "    - Single plasmid containing IPTG-inducible sfGFP and ATC-inducible mTagBFP2. The reason for mTagBFP2 over mCherry is that it causes more burden and therefore should strongly influence sfGFP expression.\n",
    "    - Multiple plasmids where sfGFP is expressed from each relevant constitutive promoter.\n",
    "    - Multiple plasmids where mTagBFP2 is expressed from each relevant constitutive promoter."
   ],
   "cell_type": "markdown",
   "metadata": {}
  },
  {
   "cell_type": "code",
   "execution_count": 16,
   "metadata": {},
   "outputs": [
    {
     "output_type": "stream",
     "name": "stderr",
     "text": [
      "/home/hainesm6/.pyenv/versions/generic_385/lib/python3.8/site-packages/Bio/SeqIO/InsdcIO.py:721: BiopythonWarning: Increasing length of locus line to allow long name. This will result in fields that are not in usual positions.\n  warnings.warn(\n"
     ]
    }
   ],
   "source": [
    "inducible_con = bsb.BasicAssembly(\n",
    "    \"inducible_sfGFP_mTagBFP2\",\n",
    "    bsb.BASIC_SEVA_PARTS[\"v0.1\"][\"26\"],\n",
    "    bsb.BASIC_BIOLEGIO_LINKERS[\"v0.1\"][\"LMP\"],\n",
    "    bsb.BASIC_PROMOTER_PARTS[\"v0.1\"][\"B-P31\"],\n",
    "    bsb.BASIC_BIOLEGIO_LINKERS[\"v0.1\"][\"UTR1-RBS3\"],\n",
    "    bsb.BASIC_CDS_PARTS[\"v0.1\"][\"sfGFP\"],\n",
    "    bsb.BASIC_BIOLEGIO_LINKERS[\"v0.1\"][\"L1\"],\n",
    "    bsb.BASIC_PROMOTER_PARTS[\"v0.1\"][\"B-P35\"],\n",
    "    bsb.BASIC_BIOLEGIO_LINKERS[\"v0.1\"][\"UTR2-RBS3\"],\n",
    "    bsb.BASIC_CDS_PARTS[\"v0.1\"][\"mTagBFP2\"],    \n",
    "    bsb.BASIC_BIOLEGIO_LINKERS[\"v0.1\"][\"LMS\"]\n",
    ")\n",
    "sfgfp_cons = [\n",
    "    bsb.BasicAssembly(\n",
    "        f\"sfGFP_cassette_{promoter.name}\",\n",
    "        bsb.BASIC_SEVA_PARTS[\"v0.1\"][\"26\"],\n",
    "        bsb.BASIC_BIOLEGIO_LINKERS[\"v0.1\"][\"LMP\"],\n",
    "        promoter,\n",
    "        bsb.BASIC_BIOLEGIO_LINKERS[\"v0.1\"][\"UTR1-RBS3\"],\n",
    "        bsb.BASIC_CDS_PARTS[\"v0.1\"][\"sfGFP\"],\n",
    "        bsb.BASIC_BIOLEGIO_LINKERS[\"v0.1\"][\"LMS\"]\n",
    "    )\n",
    "for promoter in bsb.BASIC_PROMOTER_PARTS[\"v0.1\"].values() if re.match(\"B-P(\\d)*_Terminator1_J23(\\d)*_RiboA\", promoter.name)]\n",
    "mtagbfp2_cons = [\n",
    "    bsb.BasicAssembly(\n",
    "        f\"sfGFP_cassette_{promoter.name}\",\n",
    "        bsb.BASIC_SEVA_PARTS[\"v0.1\"][\"26\"],\n",
    "        bsb.BASIC_BIOLEGIO_LINKERS[\"v0.1\"][\"LMP\"],\n",
    "        promoter,\n",
    "        bsb.BASIC_BIOLEGIO_LINKERS[\"v0.1\"][\"UTR2-RBS3\"],\n",
    "        bsb.BASIC_CDS_PARTS[\"v0.1\"][\"mTagBFP2\"],\n",
    "        bsb.BASIC_BIOLEGIO_LINKERS[\"v0.1\"][\"LMS\"]\n",
    "    )\n",
    "for promoter in bsb.BASIC_PROMOTER_PARTS[\"v0.1\"].values() if re.match(\"B-P(\\d)*_Terminator2_J23(\\d)*_RiboB\", promoter.name)]\n",
    "build_1 = bsb.BasicBuild(\n",
    "    inducible_con,\n",
    "    *sfgfp_cons,\n",
    "    *mtagbfp2_cons\n",
    ")\n",
    "bsb.export_sequences_to_file(\n",
    "    build_1.basic_assemblies,\n",
    "    path_to_seqs / \"build_1.gb\",\n",
    "    \"genbank\"\n",
    ")"
   ]
  },
  {
   "source": [
    "print(f\"Number of assemblies to construct {len(build_1.basic_assemblies)}\")"
   ],
   "cell_type": "code",
   "metadata": {},
   "execution_count": 17,
   "outputs": [
    {
     "output_type": "stream",
     "name": "stdout",
     "text": [
      "Number of assemblies to construct 17\nNumber of sfGFP assemblies 8\n"
     ]
    }
   ]
  }
 ]
}